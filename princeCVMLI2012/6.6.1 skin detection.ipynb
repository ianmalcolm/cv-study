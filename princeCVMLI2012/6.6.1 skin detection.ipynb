{
 "cells": [
  {
   "cell_type": "code",
   "execution_count": 21,
   "metadata": {},
   "outputs": [],
   "source": [
    "import numpy as np\n",
    "from scipy.stats import multivariate_normal"
   ]
  },
  {
   "cell_type": "markdown",
   "metadata": {},
   "source": [
    "## Prepare the data\n",
    "\n",
    "Use dataset Skin_NonSkin.txt from [here](http://archive.ics.uci.edu/ml/datasets/Skin+Segmentation) \\[1\\].\n",
    "\n",
    "> The skin dataset is collected by randomly sampling B,G,R values from face images of various age groups (young, middle, and old), race groups (white, black, and asian), and genders obtained from FERET database and PAL database. Total learning sample size is 245057; out of which 50859 is the skin samples and 194198 is non-skin samples. Color FERET Image Database, PAL Face Database from Productive Aging Laboratory, The University of Texas at Dallas."
   ]
  },
  {
   "cell_type": "code",
   "execution_count": 22,
   "metadata": {},
   "outputs": [],
   "source": [
    "data = np.loadtxt('Skin_NonSkin.txt')"
   ]
  },
  {
   "cell_type": "markdown",
   "metadata": {},
   "source": [
    "data1 is the skin samples, \n",
    "data2 is the non-skin samples"
   ]
  },
  {
   "cell_type": "code",
   "execution_count": 23,
   "metadata": {},
   "outputs": [],
   "source": [
    "data1 = data[data[:,3]==1,:]\n",
    "data2 = data[data[:,3]==2,:]"
   ]
  },
  {
   "cell_type": "markdown",
   "metadata": {},
   "source": [
    "Then split the whole dataset into training dataset and testing dataset. I randomly take $n$ samples from data1 and data2 respectively, to form a test dataset. d1train and d2train are the training dataset, d1test and d2test are the testing dataset. np.random.seed is used to ensure a reproducible result."
   ]
  },
  {
   "cell_type": "code",
   "execution_count": 24,
   "metadata": {},
   "outputs": [],
   "source": [
    "np.random.seed(1)\n",
    "np.random.shuffle(data1)\n",
    "np.random.shuffle(data2)\n",
    "ntest = 1000\n",
    "d1train = data1[:-ntest,:]\n",
    "d2train = data2[:-ntest,:]\n",
    "d1test = data1[-ntest:,:]\n",
    "d2test = data2[-ntest:,:]"
   ]
  },
  {
   "cell_type": "markdown",
   "metadata": {},
   "source": [
    "## Create *generative* model\n",
    "\n",
    "Two things you can play with here \\[2\\]:\n",
    "\n",
    "* Color space\n",
    "* Model\n",
    "\n",
    "Here I am using RGB color space and three-dimension gaussian model. u1 and s1 are the mean and covariance matrix of the skin model, u2 and s2 are the mean and covariance of the non-skin model."
   ]
  },
  {
   "cell_type": "code",
   "execution_count": 25,
   "metadata": {},
   "outputs": [],
   "source": [
    "u1 = np.average(d1train[:,0:3],axis=0)\n",
    "u2 = np.average(d2train[:,0:3],axis=0)\n",
    "s1 = np.cov(d1train[:,0:3].T)\n",
    "s2 = np.cov(d2train[:,0:3].T)"
   ]
  },
  {
   "cell_type": "markdown",
   "metadata": {},
   "source": [
    "Calculate the prior probability over the states as $$Pr\\left(w\\right)=Bern_w\\left[\\lambda\\right].$$ pw1 is $Pr\\left(w=\\text{skin}\\right)=\\lambda$. pw2 is $Pr\\left(w=\\text{non-skin}\\right)=1-\\lambda$"
   ]
  },
  {
   "cell_type": "code",
   "execution_count": 26,
   "metadata": {},
   "outputs": [],
   "source": [
    "pw1 = d1train.shape[0]*1./d2train.shape[0]\n",
    "pw2 = 1-pw1"
   ]
  },
  {
   "cell_type": "markdown",
   "metadata": {},
   "source": [
    "## Calculate the inference\n",
    "\n",
    "Class conditional likelihood/probability of each pixel of being skin or non-skin pixel"
   ]
  },
  {
   "cell_type": "code",
   "execution_count": 27,
   "metadata": {},
   "outputs": [],
   "source": [
    "ll11 = multivariate_normal.pdf(d1test[:,0:3],u1,s1)\n",
    "ll12 = multivariate_normal.pdf(d1test[:,0:3],u2,s2)\n",
    "ll21 = multivariate_normal.pdf(d2test[:,0:3],u1,s1)\n",
    "ll22 = multivariate_normal.pdf(d2test[:,0:3],u2,s2)"
   ]
  },
  {
   "cell_type": "markdown",
   "metadata": {},
   "source": [
    "Calculate posterior probability according to Bayes' shown as equation 6.14\n",
    "\n",
    "$$\n",
    "Pr\\left(w=1|x\\right)=\\frac{Pr\\left(x|w=1\\right)Pr\\left(w=1\\right)}{\\sum_{k=0}^1Pr\\left(x|w=k\\right)Pr\\left(w=k\\right)}\n",
    "$$"
   ]
  },
  {
   "cell_type": "code",
   "execution_count": 28,
   "metadata": {},
   "outputs": [],
   "source": [
    "d1bayes = ll11*pw1/(ll11*pw1+ll12*pw2)\n",
    "d2bayes = ll22*pw2/(ll21*pw1+ll22*pw2)"
   ]
  },
  {
   "cell_type": "markdown",
   "metadata": {},
   "source": [
    "Use a threshold to classify a pixel as skin or non-skin"
   ]
  },
  {
   "cell_type": "code",
   "execution_count": 29,
   "metadata": {},
   "outputs": [],
   "source": [
    "threshold = 0.5\n",
    "d1err = d1test[d1bayes<threshold,:]\n",
    "d2err = d2test[d2bayes<threshold,:]"
   ]
  },
  {
   "cell_type": "code",
   "execution_count": 30,
   "metadata": {},
   "outputs": [
    {
     "name": "stdout",
     "output_type": "stream",
     "text": [
      "False positive 56, 5.6%\n",
      "False negative 2, 0.2%\n"
     ]
    }
   ],
   "source": [
    "print('False positive {}, {}%'.format(d1err.shape[0],d1err.shape[0]*100./ntest))\n",
    "print('False negative {}, {}%'.format(d2err.shape[0],d2err.shape[0]*100./ntest))"
   ]
  },
  {
   "cell_type": "markdown",
   "metadata": {},
   "source": [
    "The detection rate also depends on random seed used by random.shuffle."
   ]
  },
  {
   "cell_type": "markdown",
   "metadata": {},
   "source": [
    "# Reference\n",
    "\n",
    "1. Rajen Bhatt, Abhinav Dhall, 'Skin Segmentation Dataset', UCI Machine Learning Repository\n",
    "2. Vezhnevets, V., Sazonov, V., & Andreeva, A. (2003, September). A survey on pixel-based skin color detection techniques. In Proc. Graphicon (Vol. 3, pp. 85-92)."
   ]
  }
 ],
 "metadata": {
  "kernelspec": {
   "display_name": "Python 2",
   "language": "python",
   "name": "python2"
  },
  "language_info": {
   "codemirror_mode": {
    "name": "ipython",
    "version": 2
   },
   "file_extension": ".py",
   "mimetype": "text/x-python",
   "name": "python",
   "nbconvert_exporter": "python",
   "pygments_lexer": "ipython2",
   "version": "2.7.14"
  }
 },
 "nbformat": 4,
 "nbformat_minor": 2
}
